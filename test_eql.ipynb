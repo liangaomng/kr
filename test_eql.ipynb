{
 "cells": [
  {
   "cell_type": "code",
   "execution_count": 2,
   "metadata": {},
   "outputs": [],
   "source": [
    "#this file is to test to read the pickle file\n",
    "import pickle"
   ]
  },
  {
   "cell_type": "code",
   "execution_count": 3,
   "metadata": {},
   "outputs": [],
   "source": [
    "with open(\"/Users/liangaoming/Desktop/kr/results/benchmark/test/(x+yz)^3/trial0.pickle\",\"rb\")as file:\n",
    "        data=pickle.load(file)\n",
    "        "
   ]
  },
  {
   "cell_type": "code",
   "execution_count": 5,
   "metadata": {},
   "outputs": [
    {
     "data": {
      "text/latex": [
       "$\\displaystyle -5.21981337152148 + 9.79187028709999 e^{- 0.629090830184974 e^{- 0.298082 x - 0.0133557 y}}$"
      ],
      "text/plain": [
       "-5.21981337152148 + 9.79187028709999*exp(-0.629090830184974*exp(-0.298082*x - 0.0133557*y))"
      ]
     },
     "execution_count": 5,
     "metadata": {},
     "output_type": "execute_result"
    }
   ],
   "source": [
    "data[\"expr\"]"
   ]
  },
  {
   "cell_type": "code",
   "execution_count": 16,
   "metadata": {},
   "outputs": [
    {
     "name": "stdout",
     "output_type": "stream",
     "text": [
      "<class 'torch.Tensor'>\n"
     ]
    }
   ],
   "source": [
    "import torch\n",
    "import torch.nn as nn\n",
    "\n",
    "# 定义模型\n",
    "class MyModel(nn.Module):\n",
    "    def __init__(self):\n",
    "        super(MyModel, self).__init__()\n",
    "        self.conv1 = nn.Conv2d(1, 32, 3, 1)\n",
    "        self.relu = nn.ReLU()\n",
    "\n",
    "    def forward(self, x):\n",
    "        x = self.conv1(x)\n",
    "        x = self.relu(x)\n",
    "        return x\n",
    "\n",
    "# 实例化模型\n",
    "model = MyModel()\n",
    "\n",
    "# 定义一个反向钩子函数\n",
    "def modify_grad(module, grad_input, grad_output):\n",
    "    # 对grad_output进行修改:\n",
    "    # 将输入梯度缩小，例如乘以0.5\n",
    "    modified_grad_input = tuple(g * 0.5 if g is not None else None for g in grad_input)\n",
    "      # 返回修改后的输入梯度\n",
    "    print(type(modified_grad_input[2]))\n",
    "    return modified_grad_input\n",
    "\n",
    "\n",
    "\n",
    "# 注册反向钩子\n",
    "hook = model.conv1.register_backward_hook(modify_grad)\n",
    "\n",
    "# 假设的输入和目标输出\n",
    "input = torch.randn(1, 1, 28, 28, requires_grad=True)\n",
    "target = torch.randn(1, 32, 26, 26)\n",
    "\n",
    "# 前向传播\n",
    "output = model(input)\n",
    "\n",
    "# 计算损失\n",
    "loss = nn.MSELoss()(output, target)\n",
    "\n",
    "# 反向传播\n",
    "loss.backward()\n",
    "\n",
    "# 不要忘记移除钩子\n",
    "hook.remove()\n"
   ]
  }
 ],
 "metadata": {
  "kernelspec": {
   "display_name": "base",
   "language": "python",
   "name": "python3"
  },
  "language_info": {
   "codemirror_mode": {
    "name": "ipython",
    "version": 3
   },
   "file_extension": ".py",
   "mimetype": "text/x-python",
   "name": "python",
   "nbconvert_exporter": "python",
   "pygments_lexer": "ipython3",
   "version": "3.10.9"
  }
 },
 "nbformat": 4,
 "nbformat_minor": 2
}
